{
 "cells": [
  {
   "cell_type": "markdown",
   "id": "curious-shaft",
   "metadata": {},
   "source": [
    "# Nivell 1\n",
    "- Exercici 1\n",
    "\n",
    "Crea una base de dades relacionals senzilla utilitzant MySQL(https://www.mysql.com/) i connecta-la a Python"
   ]
  },
  {
   "cell_type": "code",
   "execution_count": 61,
   "id": "unable-eclipse",
   "metadata": {},
   "outputs": [],
   "source": [
    "import pymysql\n",
    "import pandas as pd\n",
    "import matplotlib.pyplot as plt\n",
    "import seaborn as sns\n",
    "import numpy as np"
   ]
  },
  {
   "cell_type": "code",
   "execution_count": 48,
   "id": "valid-electricity",
   "metadata": {},
   "outputs": [],
   "source": [
    "conn = pymysql.connect(\n",
    "    host='remotemysql.com',\n",
    "    port=int(3306),\n",
    "    user=\"usuario\",\n",
    "    passwd='contraseña',\n",
    "    db=\"g7hoQ1BCxy\",\n",
    "    charset='utf8mb4')\n"
   ]
  },
  {
   "cell_type": "code",
   "execution_count": 34,
   "id": "advance-riding",
   "metadata": {},
   "outputs": [
    {
     "name": "stdout",
     "output_type": "stream",
     "text": [
      "<pymysql.connections.Connection object at 0x00000177D0D95C70>\n"
     ]
    }
   ],
   "source": [
    "print(conn)"
   ]
  },
  {
   "cell_type": "code",
   "execution_count": 42,
   "id": "acoustic-education",
   "metadata": {},
   "outputs": [
    {
     "name": "stdout",
     "output_type": "stream",
     "text": [
      "('departments',)\n",
      "('dept_emp',)\n",
      "('dept_manager',)\n",
      "('employees',)\n",
      "('salaries',)\n",
      "('titles',)\n"
     ]
    }
   ],
   "source": [
    "# Listamos las tablas\n",
    "micursor = conn.cursor()\n",
    "\n",
    "micursor.execute(\"SHOW TABLES\")\n",
    "\n",
    "for x in micursor:\n",
    "  print(x)"
   ]
  },
  {
   "cell_type": "markdown",
   "id": "worst-sailing",
   "metadata": {},
   "source": [
    "# Nivell 2\n",
    "\n",
    "- Exercici 2\n",
    "\n",
    "Mostra que pots carregar algunes consultes senzilles a un Pandas Dataframe"
   ]
  },
  {
   "cell_type": "markdown",
   "id": "limiting-stress",
   "metadata": {},
   "source": [
    "Cargos los datos de la tabla employees en dataframe"
   ]
  },
  {
   "cell_type": "code",
   "execution_count": 14,
   "id": "hawaiian-shepherd",
   "metadata": {},
   "outputs": [
    {
     "data": {
      "text/html": [
       "<div>\n",
       "<style scoped>\n",
       "    .dataframe tbody tr th:only-of-type {\n",
       "        vertical-align: middle;\n",
       "    }\n",
       "\n",
       "    .dataframe tbody tr th {\n",
       "        vertical-align: top;\n",
       "    }\n",
       "\n",
       "    .dataframe thead th {\n",
       "        text-align: right;\n",
       "    }\n",
       "</style>\n",
       "<table border=\"1\" class=\"dataframe\">\n",
       "  <thead>\n",
       "    <tr style=\"text-align: right;\">\n",
       "      <th></th>\n",
       "      <th>emp_no</th>\n",
       "      <th>birth_date</th>\n",
       "      <th>first_name</th>\n",
       "      <th>last_name</th>\n",
       "      <th>gender</th>\n",
       "      <th>hire_date</th>\n",
       "    </tr>\n",
       "  </thead>\n",
       "  <tbody>\n",
       "    <tr>\n",
       "      <th>300014</th>\n",
       "      <td>499990</td>\n",
       "      <td>1963-11-03</td>\n",
       "      <td>Khaled</td>\n",
       "      <td>Kohling</td>\n",
       "      <td>M</td>\n",
       "      <td>1985-10-10</td>\n",
       "    </tr>\n",
       "    <tr>\n",
       "      <th>300015</th>\n",
       "      <td>499991</td>\n",
       "      <td>1962-02-26</td>\n",
       "      <td>Pohua</td>\n",
       "      <td>Sichman</td>\n",
       "      <td>F</td>\n",
       "      <td>1989-01-12</td>\n",
       "    </tr>\n",
       "    <tr>\n",
       "      <th>300016</th>\n",
       "      <td>499992</td>\n",
       "      <td>1960-10-12</td>\n",
       "      <td>Siamak</td>\n",
       "      <td>Salverda</td>\n",
       "      <td>F</td>\n",
       "      <td>1987-05-10</td>\n",
       "    </tr>\n",
       "    <tr>\n",
       "      <th>300017</th>\n",
       "      <td>499993</td>\n",
       "      <td>1963-06-04</td>\n",
       "      <td>DeForest</td>\n",
       "      <td>Mullainathan</td>\n",
       "      <td>M</td>\n",
       "      <td>1997-04-07</td>\n",
       "    </tr>\n",
       "    <tr>\n",
       "      <th>300018</th>\n",
       "      <td>499994</td>\n",
       "      <td>1952-02-26</td>\n",
       "      <td>Navin</td>\n",
       "      <td>Argence</td>\n",
       "      <td>F</td>\n",
       "      <td>1990-04-24</td>\n",
       "    </tr>\n",
       "    <tr>\n",
       "      <th>300019</th>\n",
       "      <td>499995</td>\n",
       "      <td>1958-09-24</td>\n",
       "      <td>Dekang</td>\n",
       "      <td>Lichtner</td>\n",
       "      <td>F</td>\n",
       "      <td>1993-01-12</td>\n",
       "    </tr>\n",
       "    <tr>\n",
       "      <th>300020</th>\n",
       "      <td>499996</td>\n",
       "      <td>1953-03-07</td>\n",
       "      <td>Zito</td>\n",
       "      <td>Baaz</td>\n",
       "      <td>M</td>\n",
       "      <td>1990-09-27</td>\n",
       "    </tr>\n",
       "    <tr>\n",
       "      <th>300021</th>\n",
       "      <td>499997</td>\n",
       "      <td>1961-08-03</td>\n",
       "      <td>Berhard</td>\n",
       "      <td>Lenart</td>\n",
       "      <td>M</td>\n",
       "      <td>1986-04-21</td>\n",
       "    </tr>\n",
       "    <tr>\n",
       "      <th>300022</th>\n",
       "      <td>499998</td>\n",
       "      <td>1956-09-05</td>\n",
       "      <td>Patricia</td>\n",
       "      <td>Breugel</td>\n",
       "      <td>M</td>\n",
       "      <td>1993-10-13</td>\n",
       "    </tr>\n",
       "    <tr>\n",
       "      <th>300023</th>\n",
       "      <td>499999</td>\n",
       "      <td>1958-05-01</td>\n",
       "      <td>Sachin</td>\n",
       "      <td>Tsukuda</td>\n",
       "      <td>M</td>\n",
       "      <td>1997-11-30</td>\n",
       "    </tr>\n",
       "  </tbody>\n",
       "</table>\n",
       "</div>"
      ],
      "text/plain": [
       "        emp_no  birth_date first_name     last_name gender   hire_date\n",
       "300014  499990  1963-11-03     Khaled       Kohling      M  1985-10-10\n",
       "300015  499991  1962-02-26      Pohua       Sichman      F  1989-01-12\n",
       "300016  499992  1960-10-12     Siamak      Salverda      F  1987-05-10\n",
       "300017  499993  1963-06-04   DeForest  Mullainathan      M  1997-04-07\n",
       "300018  499994  1952-02-26      Navin       Argence      F  1990-04-24\n",
       "300019  499995  1958-09-24     Dekang      Lichtner      F  1993-01-12\n",
       "300020  499996  1953-03-07       Zito          Baaz      M  1990-09-27\n",
       "300021  499997  1961-08-03    Berhard        Lenart      M  1986-04-21\n",
       "300022  499998  1956-09-05   Patricia       Breugel      M  1993-10-13\n",
       "300023  499999  1958-05-01     Sachin       Tsukuda      M  1997-11-30"
      ]
     },
     "execution_count": 14,
     "metadata": {},
     "output_type": "execute_result"
    }
   ],
   "source": [
    "df = pd.read_sql_query(\"SELECT * FROM employees\",\n",
    "    conn)\n",
    "df.tail(10)"
   ]
  },
  {
   "cell_type": "markdown",
   "id": "apart-jefferson",
   "metadata": {},
   "source": [
    "Creo Df con los salarios de los empleado"
   ]
  },
  {
   "cell_type": "code",
   "execution_count": 46,
   "id": "dimensional-secretary",
   "metadata": {},
   "outputs": [
    {
     "data": {
      "text/html": [
       "<div>\n",
       "<style scoped>\n",
       "    .dataframe tbody tr th:only-of-type {\n",
       "        vertical-align: middle;\n",
       "    }\n",
       "\n",
       "    .dataframe tbody tr th {\n",
       "        vertical-align: top;\n",
       "    }\n",
       "\n",
       "    .dataframe thead th {\n",
       "        text-align: right;\n",
       "    }\n",
       "</style>\n",
       "<table border=\"1\" class=\"dataframe\">\n",
       "  <thead>\n",
       "    <tr style=\"text-align: right;\">\n",
       "      <th></th>\n",
       "      <th>emp_no</th>\n",
       "      <th>birth_date</th>\n",
       "      <th>first_name</th>\n",
       "      <th>last_name</th>\n",
       "      <th>gender</th>\n",
       "      <th>hire_date</th>\n",
       "    </tr>\n",
       "  </thead>\n",
       "  <tbody>\n",
       "    <tr>\n",
       "      <th>300014</th>\n",
       "      <td>499990</td>\n",
       "      <td>1963-11-03</td>\n",
       "      <td>Khaled</td>\n",
       "      <td>Kohling</td>\n",
       "      <td>M</td>\n",
       "      <td>1985-10-10</td>\n",
       "    </tr>\n",
       "    <tr>\n",
       "      <th>300015</th>\n",
       "      <td>499991</td>\n",
       "      <td>1962-02-26</td>\n",
       "      <td>Pohua</td>\n",
       "      <td>Sichman</td>\n",
       "      <td>F</td>\n",
       "      <td>1989-01-12</td>\n",
       "    </tr>\n",
       "    <tr>\n",
       "      <th>300016</th>\n",
       "      <td>499992</td>\n",
       "      <td>1960-10-12</td>\n",
       "      <td>Siamak</td>\n",
       "      <td>Salverda</td>\n",
       "      <td>F</td>\n",
       "      <td>1987-05-10</td>\n",
       "    </tr>\n",
       "    <tr>\n",
       "      <th>300017</th>\n",
       "      <td>499993</td>\n",
       "      <td>1963-06-04</td>\n",
       "      <td>DeForest</td>\n",
       "      <td>Mullainathan</td>\n",
       "      <td>M</td>\n",
       "      <td>1997-04-07</td>\n",
       "    </tr>\n",
       "    <tr>\n",
       "      <th>300018</th>\n",
       "      <td>499994</td>\n",
       "      <td>1952-02-26</td>\n",
       "      <td>Navin</td>\n",
       "      <td>Argence</td>\n",
       "      <td>F</td>\n",
       "      <td>1990-04-24</td>\n",
       "    </tr>\n",
       "    <tr>\n",
       "      <th>300019</th>\n",
       "      <td>499995</td>\n",
       "      <td>1958-09-24</td>\n",
       "      <td>Dekang</td>\n",
       "      <td>Lichtner</td>\n",
       "      <td>F</td>\n",
       "      <td>1993-01-12</td>\n",
       "    </tr>\n",
       "    <tr>\n",
       "      <th>300020</th>\n",
       "      <td>499996</td>\n",
       "      <td>1953-03-07</td>\n",
       "      <td>Zito</td>\n",
       "      <td>Baaz</td>\n",
       "      <td>M</td>\n",
       "      <td>1990-09-27</td>\n",
       "    </tr>\n",
       "    <tr>\n",
       "      <th>300021</th>\n",
       "      <td>499997</td>\n",
       "      <td>1961-08-03</td>\n",
       "      <td>Berhard</td>\n",
       "      <td>Lenart</td>\n",
       "      <td>M</td>\n",
       "      <td>1986-04-21</td>\n",
       "    </tr>\n",
       "    <tr>\n",
       "      <th>300022</th>\n",
       "      <td>499998</td>\n",
       "      <td>1956-09-05</td>\n",
       "      <td>Patricia</td>\n",
       "      <td>Breugel</td>\n",
       "      <td>M</td>\n",
       "      <td>1993-10-13</td>\n",
       "    </tr>\n",
       "    <tr>\n",
       "      <th>300023</th>\n",
       "      <td>499999</td>\n",
       "      <td>1958-05-01</td>\n",
       "      <td>Sachin</td>\n",
       "      <td>Tsukuda</td>\n",
       "      <td>M</td>\n",
       "      <td>1997-11-30</td>\n",
       "    </tr>\n",
       "  </tbody>\n",
       "</table>\n",
       "</div>"
      ],
      "text/plain": [
       "        emp_no  birth_date first_name     last_name gender   hire_date\n",
       "300014  499990  1963-11-03     Khaled       Kohling      M  1985-10-10\n",
       "300015  499991  1962-02-26      Pohua       Sichman      F  1989-01-12\n",
       "300016  499992  1960-10-12     Siamak      Salverda      F  1987-05-10\n",
       "300017  499993  1963-06-04   DeForest  Mullainathan      M  1997-04-07\n",
       "300018  499994  1952-02-26      Navin       Argence      F  1990-04-24\n",
       "300019  499995  1958-09-24     Dekang      Lichtner      F  1993-01-12\n",
       "300020  499996  1953-03-07       Zito          Baaz      M  1990-09-27\n",
       "300021  499997  1961-08-03    Berhard        Lenart      M  1986-04-21\n",
       "300022  499998  1956-09-05   Patricia       Breugel      M  1993-10-13\n",
       "300023  499999  1958-05-01     Sachin       Tsukuda      M  1997-11-30"
      ]
     },
     "execution_count": 46,
     "metadata": {},
     "output_type": "execute_result"
    }
   ],
   "source": [
    "df2 = pd.read_sql_query(\"select e.*,s.salary from employees e join salaries s on e.emp_no=s.emp_no\",\n",
    "    conn)\n",
    "df.tail(10)"
   ]
  },
  {
   "cell_type": "markdown",
   "id": "personal-probe",
   "metadata": {},
   "source": [
    "Creo df con los salarios y los cargos"
   ]
  },
  {
   "cell_type": "code",
   "execution_count": 49,
   "id": "located-horror",
   "metadata": {},
   "outputs": [
    {
     "data": {
      "text/html": [
       "<div>\n",
       "<style scoped>\n",
       "    .dataframe tbody tr th:only-of-type {\n",
       "        vertical-align: middle;\n",
       "    }\n",
       "\n",
       "    .dataframe tbody tr th {\n",
       "        vertical-align: top;\n",
       "    }\n",
       "\n",
       "    .dataframe thead th {\n",
       "        text-align: right;\n",
       "    }\n",
       "</style>\n",
       "<table border=\"1\" class=\"dataframe\">\n",
       "  <thead>\n",
       "    <tr style=\"text-align: right;\">\n",
       "      <th></th>\n",
       "      <th>emp_no</th>\n",
       "      <th>birth_date</th>\n",
       "      <th>first_name</th>\n",
       "      <th>last_name</th>\n",
       "      <th>gender</th>\n",
       "      <th>hire_date</th>\n",
       "    </tr>\n",
       "  </thead>\n",
       "  <tbody>\n",
       "    <tr>\n",
       "      <th>0</th>\n",
       "      <td>10001</td>\n",
       "      <td>1953-09-02</td>\n",
       "      <td>Georgi</td>\n",
       "      <td>Facello</td>\n",
       "      <td>M</td>\n",
       "      <td>1986-06-26</td>\n",
       "    </tr>\n",
       "    <tr>\n",
       "      <th>1</th>\n",
       "      <td>10002</td>\n",
       "      <td>1964-06-02</td>\n",
       "      <td>Bezalel</td>\n",
       "      <td>Simmel</td>\n",
       "      <td>F</td>\n",
       "      <td>1985-11-21</td>\n",
       "    </tr>\n",
       "    <tr>\n",
       "      <th>2</th>\n",
       "      <td>10003</td>\n",
       "      <td>1959-12-03</td>\n",
       "      <td>Parto</td>\n",
       "      <td>Bamford</td>\n",
       "      <td>M</td>\n",
       "      <td>1986-08-28</td>\n",
       "    </tr>\n",
       "    <tr>\n",
       "      <th>3</th>\n",
       "      <td>10004</td>\n",
       "      <td>1954-05-01</td>\n",
       "      <td>Chirstian</td>\n",
       "      <td>Koblick</td>\n",
       "      <td>M</td>\n",
       "      <td>1986-12-01</td>\n",
       "    </tr>\n",
       "    <tr>\n",
       "      <th>4</th>\n",
       "      <td>10005</td>\n",
       "      <td>1955-01-21</td>\n",
       "      <td>Kyoichi</td>\n",
       "      <td>Maliniak</td>\n",
       "      <td>M</td>\n",
       "      <td>1989-09-12</td>\n",
       "    </tr>\n",
       "    <tr>\n",
       "      <th>5</th>\n",
       "      <td>10006</td>\n",
       "      <td>1953-04-20</td>\n",
       "      <td>Anneke</td>\n",
       "      <td>Preusig</td>\n",
       "      <td>F</td>\n",
       "      <td>1989-06-02</td>\n",
       "    </tr>\n",
       "    <tr>\n",
       "      <th>6</th>\n",
       "      <td>10007</td>\n",
       "      <td>1957-05-23</td>\n",
       "      <td>Tzvetan</td>\n",
       "      <td>Zielinski</td>\n",
       "      <td>F</td>\n",
       "      <td>1989-02-10</td>\n",
       "    </tr>\n",
       "    <tr>\n",
       "      <th>7</th>\n",
       "      <td>10008</td>\n",
       "      <td>1958-02-19</td>\n",
       "      <td>Saniya</td>\n",
       "      <td>Kalloufi</td>\n",
       "      <td>M</td>\n",
       "      <td>1994-09-15</td>\n",
       "    </tr>\n",
       "    <tr>\n",
       "      <th>8</th>\n",
       "      <td>10009</td>\n",
       "      <td>1952-04-19</td>\n",
       "      <td>Sumant</td>\n",
       "      <td>Peac</td>\n",
       "      <td>F</td>\n",
       "      <td>1985-02-18</td>\n",
       "    </tr>\n",
       "    <tr>\n",
       "      <th>9</th>\n",
       "      <td>10010</td>\n",
       "      <td>1963-06-01</td>\n",
       "      <td>Duangkaew</td>\n",
       "      <td>Piveteau</td>\n",
       "      <td>F</td>\n",
       "      <td>1989-08-24</td>\n",
       "    </tr>\n",
       "  </tbody>\n",
       "</table>\n",
       "</div>"
      ],
      "text/plain": [
       "   emp_no  birth_date first_name  last_name gender   hire_date\n",
       "0   10001  1953-09-02     Georgi    Facello      M  1986-06-26\n",
       "1   10002  1964-06-02    Bezalel     Simmel      F  1985-11-21\n",
       "2   10003  1959-12-03      Parto    Bamford      M  1986-08-28\n",
       "3   10004  1954-05-01  Chirstian    Koblick      M  1986-12-01\n",
       "4   10005  1955-01-21    Kyoichi   Maliniak      M  1989-09-12\n",
       "5   10006  1953-04-20     Anneke    Preusig      F  1989-06-02\n",
       "6   10007  1957-05-23    Tzvetan  Zielinski      F  1989-02-10\n",
       "7   10008  1958-02-19     Saniya   Kalloufi      M  1994-09-15\n",
       "8   10009  1952-04-19     Sumant       Peac      F  1985-02-18\n",
       "9   10010  1963-06-01  Duangkaew   Piveteau      F  1989-08-24"
      ]
     },
     "execution_count": 49,
     "metadata": {},
     "output_type": "execute_result"
    }
   ],
   "source": [
    "df3 = pd.read_sql_query(\"select e.*,s.salary, t.title, t.from_date,t.to_date from employees e join salaries s on e.emp_no=s.emp_no join titles t on t.emp_no=e.emp_no\",\n",
    "    conn)\n",
    "df.head(10)\n",
    "\n"
   ]
  },
  {
   "cell_type": "markdown",
   "id": "dependent-printer",
   "metadata": {},
   "source": [
    "# Nivell 3\n",
    "- Exercici 3\n",
    "\n",
    "Genera algun gràfic que resumeixi les dades. "
   ]
  },
  {
   "cell_type": "code",
   "execution_count": 50,
   "id": "separate-brain",
   "metadata": {},
   "outputs": [
    {
     "data": {
      "text/plain": [
       "(3098532, 10)"
      ]
     },
     "execution_count": 50,
     "metadata": {},
     "output_type": "execute_result"
    }
   ],
   "source": [
    "df3.shape"
   ]
  },
  {
   "cell_type": "code",
   "execution_count": 52,
   "id": "dense-treasure",
   "metadata": {},
   "outputs": [
    {
     "data": {
      "text/html": [
       "<div>\n",
       "<style scoped>\n",
       "    .dataframe tbody tr th:only-of-type {\n",
       "        vertical-align: middle;\n",
       "    }\n",
       "\n",
       "    .dataframe tbody tr th {\n",
       "        vertical-align: top;\n",
       "    }\n",
       "\n",
       "    .dataframe thead th {\n",
       "        text-align: right;\n",
       "    }\n",
       "</style>\n",
       "<table border=\"1\" class=\"dataframe\">\n",
       "  <thead>\n",
       "    <tr style=\"text-align: right;\">\n",
       "      <th></th>\n",
       "      <th>emp_no</th>\n",
       "      <th>birth_date</th>\n",
       "      <th>first_name</th>\n",
       "      <th>last_name</th>\n",
       "      <th>gender</th>\n",
       "      <th>hire_date</th>\n",
       "      <th>salary</th>\n",
       "      <th>title</th>\n",
       "      <th>from_date</th>\n",
       "      <th>to_date</th>\n",
       "    </tr>\n",
       "  </thead>\n",
       "  <tbody>\n",
       "    <tr>\n",
       "      <th>0</th>\n",
       "      <td>109205</td>\n",
       "      <td>1954-08-14</td>\n",
       "      <td>Shrikanth</td>\n",
       "      <td>Kuzuoka</td>\n",
       "      <td>M</td>\n",
       "      <td>1988-09-07</td>\n",
       "      <td>54406</td>\n",
       "      <td>Senior Staff</td>\n",
       "      <td>1995-09-08</td>\n",
       "      <td>9999-01-01</td>\n",
       "    </tr>\n",
       "    <tr>\n",
       "      <th>1</th>\n",
       "      <td>109205</td>\n",
       "      <td>1954-08-14</td>\n",
       "      <td>Shrikanth</td>\n",
       "      <td>Kuzuoka</td>\n",
       "      <td>M</td>\n",
       "      <td>1988-09-07</td>\n",
       "      <td>55107</td>\n",
       "      <td>Senior Staff</td>\n",
       "      <td>1995-09-08</td>\n",
       "      <td>9999-01-01</td>\n",
       "    </tr>\n",
       "    <tr>\n",
       "      <th>2</th>\n",
       "      <td>109205</td>\n",
       "      <td>1954-08-14</td>\n",
       "      <td>Shrikanth</td>\n",
       "      <td>Kuzuoka</td>\n",
       "      <td>M</td>\n",
       "      <td>1988-09-07</td>\n",
       "      <td>55305</td>\n",
       "      <td>Senior Staff</td>\n",
       "      <td>1995-09-08</td>\n",
       "      <td>9999-01-01</td>\n",
       "    </tr>\n",
       "    <tr>\n",
       "      <th>3</th>\n",
       "      <td>109205</td>\n",
       "      <td>1954-08-14</td>\n",
       "      <td>Shrikanth</td>\n",
       "      <td>Kuzuoka</td>\n",
       "      <td>M</td>\n",
       "      <td>1988-09-07</td>\n",
       "      <td>59484</td>\n",
       "      <td>Senior Staff</td>\n",
       "      <td>1995-09-08</td>\n",
       "      <td>9999-01-01</td>\n",
       "    </tr>\n",
       "    <tr>\n",
       "      <th>4</th>\n",
       "      <td>109205</td>\n",
       "      <td>1954-08-14</td>\n",
       "      <td>Shrikanth</td>\n",
       "      <td>Kuzuoka</td>\n",
       "      <td>M</td>\n",
       "      <td>1988-09-07</td>\n",
       "      <td>54406</td>\n",
       "      <td>Staff</td>\n",
       "      <td>1988-09-07</td>\n",
       "      <td>1995-09-08</td>\n",
       "    </tr>\n",
       "  </tbody>\n",
       "</table>\n",
       "</div>"
      ],
      "text/plain": [
       "   emp_no  birth_date first_name last_name gender   hire_date  salary  \\\n",
       "0  109205  1954-08-14  Shrikanth   Kuzuoka      M  1988-09-07   54406   \n",
       "1  109205  1954-08-14  Shrikanth   Kuzuoka      M  1988-09-07   55107   \n",
       "2  109205  1954-08-14  Shrikanth   Kuzuoka      M  1988-09-07   55305   \n",
       "3  109205  1954-08-14  Shrikanth   Kuzuoka      M  1988-09-07   59484   \n",
       "4  109205  1954-08-14  Shrikanth   Kuzuoka      M  1988-09-07   54406   \n",
       "\n",
       "          title   from_date     to_date  \n",
       "0  Senior Staff  1995-09-08  9999-01-01  \n",
       "1  Senior Staff  1995-09-08  9999-01-01  \n",
       "2  Senior Staff  1995-09-08  9999-01-01  \n",
       "3  Senior Staff  1995-09-08  9999-01-01  \n",
       "4         Staff  1988-09-07  1995-09-08  "
      ]
     },
     "execution_count": 52,
     "metadata": {},
     "output_type": "execute_result"
    }
   ],
   "source": [
    "df3.head()"
   ]
  },
  {
   "cell_type": "code",
   "execution_count": 59,
   "id": "removed-acceptance",
   "metadata": {},
   "outputs": [
    {
     "data": {
      "image/png": "[encoded data removed]",
      "text/plain": [
       "<Figure size 432x288 with 1 Axes>"
      ]
     },
     "metadata": {
      "needs_background": "light"
     },
     "output_type": "display_data"
    }
   ],
   "source": [
    "chart = sns.barplot(data = df3,x = 'gender', y = 'salary', hue = 'gender')\n",
    "chart.set_xticklabels(chart.get_xticklabels(), rotation=90, horizontalalignment='center')\n",
    "plt.title ('Salario entre hombres y mujeres')\n",
    "plt.show()"
   ]
  },
  {
   "cell_type": "code",
   "execution_count": null,
   "id": "failing-english",
   "metadata": {},
   "outputs": [],
   "source": []
  },
  {
   "cell_type": "code",
   "execution_count": 65,
   "id": "fresh-orbit",
   "metadata": {},
   "outputs": [
    {
     "data": {
      "image/png": "[encoded data removed]",
      "text/plain": [
       "<Figure size 432x288 with 1 Axes>"
      ]
     },
     "metadata": {
      "needs_background": "light"
     },
     "output_type": "display_data"
    }
   ],
   "source": [
    "chart2 = sns.barplot(data = df3,x = 'gender', y = 'salary', hue = 'title')\n",
    "chart.set_xticklabels(chart.get_xticklabels(), rotation=90, horizontalalignment='right')\n",
    "plt.title ('Salario entre diferentes cargos')\n",
    "plt.show()"
   ]
  },
  {
   "cell_type": "code",
   "execution_count": 64,
   "id": "interpreted-wealth",
   "metadata": {},
   "outputs": [
    {
     "data": {
      "text/plain": [
       "Text(0.5, 1.0, 'Salario por diferentes cargos')"
      ]
     },
     "execution_count": 64,
     "metadata": {},
     "output_type": "execute_result"
    },
    {
     "data": {
      "image/png": "[encoded data removed]",
      "text/plain": [
       "<Figure size 432x288 with 1 Axes>"
      ]
     },
     "metadata": {
      "needs_background": "light"
     },
     "output_type": "display_data"
    }
   ],
   "source": [
    "sns.boxplot(data=df3, x='salary', y='title')\n",
    "plt.title ('Salario por diferentes cargos')"
   ]
  },
  {
   "cell_type": "code",
   "execution_count": null,
   "id": "harmful-executive",
   "metadata": {},
   "outputs": [],
   "source": []
  },
  {
   "cell_type": "code",
   "execution_count": null,
   "id": "speaking-connecticut",
   "metadata": {},
   "outputs": [],
   "source": []
  },
  {
   "cell_type": "code",
   "execution_count": null,
   "id": "japanese-establishment",
   "metadata": {},
   "outputs": [],
   "source": []
  },
  {
   "cell_type": "code",
   "execution_count": null,
   "id": "moving-cornell",
   "metadata": {},
   "outputs": [],
   "source": []
  },
  {
   "cell_type": "code",
   "execution_count": null,
   "id": "psychological-flood",
   "metadata": {},
   "outputs": [],
   "source": []
  }
 ],
 "metadata": {
  "kernelspec": {
   "display_name": "Python 3",
   "language": "python",
   "name": "python3"
  },
  "language_info": {
   "codemirror_mode": {
    "name": "ipython",
    "version": 3
   },
   "file_extension": ".py",
   "mimetype": "text/x-python",
   "name": "python",
   "nbconvert_exporter": "python",
   "pygments_lexer": "ipython3",
   "version": "3.8.5"
  }
 },
 "nbformat": 4,
 "nbformat_minor": 5
}
